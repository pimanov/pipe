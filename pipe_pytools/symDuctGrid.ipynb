{
 "cells": [
  {
   "cell_type": "code",
   "execution_count": 1,
   "metadata": {
    "collapsed": true
   },
   "outputs": [],
   "source": [
    "import numpy as np\n",
    "import math"
   ]
  },
  {
   "cell_type": "code",
   "execution_count": 2,
   "metadata": {
    "collapsed": true
   },
   "outputs": [],
   "source": [
    "import matplotlib.pyplot as plt\n",
    "%matplotlib inline"
   ]
  },
  {
   "cell_type": "markdown",
   "metadata": {},
   "source": [
    "# Grid"
   ]
  },
  {
   "cell_type": "code",
   "execution_count": 3,
   "metadata": {
    "collapsed": true
   },
   "outputs": [],
   "source": [
    "class Rrt:\n",
    "    def __init__(self, y0, y01):\n",
    "        yp = lambda a,b: 0.01 * math.sqrt(0.3*(b+1)) * (a*(58.*b-21.-21.*b*b)+100.)\n",
    "        y1p = lambda a,b: 1. + a * (b - 0.45 * (b+1.)**2)\n",
    "        dyda = lambda a,b: 0.01 * math.sqrt(0.3*(b+1)) * (58.*b - 21. - 21.*b*b)\n",
    "        dydb = lambda a,b: 0.01 * math.sqrt(0.3*(b+1)) * (0.5 * (a*(58.*b - 21. - 21.*b*b) + 100.)/(b+1) + a*(58.-42*b))\n",
    "        dy1da = lambda a,b: b - 0.45 * (b+1.)**2\n",
    "        dy1db = lambda a,b: a * (1. - 0.9*(b+1.))\n",
    "\n",
    "        a = 0.0\n",
    "        b = 10. / 3.*y0*y0 - 1.\n",
    "\n",
    "        while True:\n",
    "            c1 = dyda(a,b)\n",
    "            c2 = dydb(a,b)\n",
    "            c3 = y0 - yp(a,b)\n",
    "            c4 = dy1da(a,b)\n",
    "            c5 = dy1db(a,b)\n",
    "            c6 = y01 - y1p(a,b)\n",
    "            d  = c1*c5 - c2*c4\n",
    "            da = (c3*c5 - c2*c6) / d\n",
    "            db = (c1*c6 - c3*c4) / d\n",
    "            a = a + da\n",
    "            b = b + db\n",
    "            if abs(da) < 1.e-5 and abs(db) < 1.e-5: \n",
    "                break\n",
    "\n",
    "        self.aset = a\n",
    "        self.bset = b\n",
    "\n",
    "    i0 = lambda self, x: x * (1. + self.aset * (1. - x**2) * (self.bset - x**2))\n",
    "    i1 = lambda self, x: 1. + self.aset * (self.bset - 3.*(1.+self.bset)*x**2 + 5.*x**4)"
   ]
  },
  {
   "cell_type": "code",
   "execution_count": 35,
   "metadata": {
    "collapsed": false
   },
   "outputs": [],
   "source": [
    "Xmax,Zmax,epsr,nsym = 4*[float(\"nan\")]\n",
    "xf,xn,hx,lx,Im = None, None, float('nan'), 0, 1\n",
    "rn,yn,rt1,rf,yf,yt1,Jm = 6*[None] + [1]\n",
    "thn,zn,thf,zf,ht,lt,Km = 4*[None] + [float('nan'), 0, 1]\n",
    "Re, cf = 2*[float('nan')]"
   ]
  },
  {
   "cell_type": "code",
   "execution_count": 5,
   "metadata": {
    "collapsed": false
   },
   "outputs": [],
   "source": [
    "def init_r():\n",
    "    global rn, yn, rt1, rf, yf, yt1\n",
    "    \n",
    "    hr = 1.0 / Jm\n",
    "    rrt = Rrt(1.0, epsr)\n",
    "\n",
    "    ros = np.linspace(0, 1+hr, Jm+2)\n",
    "    rn = np.array([rrt.i0(ro) for ro in ros])\n",
    "    yn = 1.0 - rn\n",
    "    rt1 = np.array([rrt.i1(ro)*hr for ro in ros])\n",
    "\n",
    "    ros -= hr/2\n",
    "    rf = np.array([rrt.i0(ro) for ro in ros])\n",
    "    yf = 1.0 - rf\n",
    "    yt1 = np.array([rrt.i1(ro)*hr for ro in ros])\n",
    "    \n",
    "    \n",
    "\n",
    "def init_th():\n",
    "    global thn, zn, thf, zf, ht, Km, Zmax\n",
    "    \n",
    "    Km = 2**lt\n",
    "    Zmax = 2.4 / nsym\n",
    "    ht = Zmax / Km\n",
    "    thn = np.linspace(0, Zmax+ht, Km+2)\n",
    "    zn = Zmax - thn\n",
    "    thf = thn - 0.5*ht\n",
    "    zf = Zmax - thf\n",
    "\n",
    "def init_x():\n",
    "    global xn, xf, hx, Im\n",
    "    \n",
    "    Im = 2**lx\n",
    "    hx = Xmax / Im\n",
    "    xn = np.linspace(0, Xmax+hx, Im+2)\n",
    "    xf = xn - 0.5*hx\n",
    "\n",
    "def __str__():\n",
    "    ret = \"## duct sym geometry module\\n\"\n",
    "#    ret += \"## characteristic units is R and Umax=2*Ubulk \\n\"\n",
    "    ret += \"Xmax * Ymax * Zmax = %f x %f x %f\\n\" % (Xmax, 1.0, Zmax)\n",
    "    ret += \"Im * Jm * Km = %d x %d x %d\\n\" % (Im,Jm,Km)\n",
    "    ret += \"epsr=%f, nsym=%f, hx=%f, ht=%f\\n\" % (epsr, nsym, hx, ht)\n",
    "    ret += \"Re=%f, cf=%f\" % (Re, cf)\n",
    "    return ret"
   ]
  },
  {
   "cell_type": "markdown",
   "metadata": {},
   "source": [
    "# Calc"
   ]
  },
  {
   "cell_type": "code",
   "execution_count": 6,
   "metadata": {
    "collapsed": true
   },
   "outputs": [],
   "source": [
    "def mod_bc(vel):\n",
    "        \n",
    "    vel[:,:,:,0] = vel[:,:,:,-2]\n",
    "    vel[:,:,:,-1] = vel[:,:,:,1]\n",
    "    \n",
    "    u,v,w = vel\n",
    "    \n",
    "    u[0,:,:] = u[1,:,:]\n",
    "    u[-1,:,:] = u[-2,:,:]\n",
    "    \n",
    "    u[:,0,:] = u[:,1,:]\n",
    "    u[:,-1,:] = - u[:,-2,:]\n",
    "\n",
    "    v[:,0,:] = 0.0\n",
    "    v[:,-2,:] = 0.0\n",
    "    v[:,-1,:] = float('nan')\n",
    "            \n",
    "    v[0,:,:] = v[1,:,:]\n",
    "    v[-1,:,:] = v[-2,:,:]\n",
    "\n",
    "    w[0,:,:] = 0.0\n",
    "    w[-2,:,:] = 0.0\n",
    "    w[-1,:,:] = float('nan')\n",
    "\n",
    "    w[:,0,:] = w[:,1,:]\n",
    "    w[:,-1,:] = - w[:,-2,:]"
   ]
  },
  {
   "cell_type": "code",
   "execution_count": 7,
   "metadata": {
    "collapsed": true
   },
   "outputs": [],
   "source": [
    "def get_om(vel):\n",
    "    mod_bc(vel)\n",
    "    u,v,w = vel\n",
    "    \n",
    "    om = np.zeros((3,Km+2,Jm+2,Im+2))\n",
    "    ox,on,ot = om\n",
    "    \n",
    "    for i in range(1,Im+1):\n",
    "        for j in range(0,Jm+1):\n",
    "            for k in range(0,Km+1):\n",
    "                w0 = w.T[i,j,k]\n",
    "                w1 = w.T[i,j+1,k]\n",
    "                v0 = v.T[i,j,k]\n",
    "                v1 = v.T[i,j,k+1]\n",
    "                ox.T[i,j,k] = (w1 - w0) / rt1[j] - (v1 - v0) / ht\n",
    "                \n",
    "    for k in range(0,Km+1):\n",
    "        for j in range(1,Jm+1):\n",
    "            for i in range(0,Im+1):\n",
    "                u0 = u.T[i,j,k]\n",
    "                u1 = u.T[i,j,k+1]\n",
    "                w0 = w.T[i,j,k]\n",
    "                w1 = w.T[i+1,j,k]\n",
    "                on.T[i,j,k] = (u1 - u0) / ht - (w1 - w0) / hx\n",
    "                \n",
    "    for k in range(1,Km+1):\n",
    "        for j in range(0,Jm+1):\n",
    "            for i in range(0,Im+1):\n",
    "                u0 = u.T[i,j,k]\n",
    "                u1 = u.T[i,j+1,k]\n",
    "                v0 = v.T[i,j,k]\n",
    "                v1 = v.T[i+1,j,k]\n",
    "                ot.T[i,j,k] = (v1 - v0) / hx - (u1 - u0) / rt1[j]\n",
    "    \n",
    "    return om"
   ]
  },
  {
   "cell_type": "code",
   "execution_count": 12,
   "metadata": {
    "collapsed": true
   },
   "outputs": [],
   "source": [
    "def get_nl(vel, om):\n",
    "    u,v,w = vel\n",
    "    ox,on,ot = om\n",
    "    velt = np.zeros((3,Km+2,Jm+2,Im+2))\n",
    "    ut,vt,wt = velt\n",
    "    \n",
    "    for i in range(1,Im+1):\n",
    "        for j in range(1,Jm+1):\n",
    "            for k in range(1,Km+1):\n",
    "                v0 = 0.5 * (v.T[i,j-1,k] + v.T[i+1,j-1,k])\n",
    "                v1 = 0.5 * (v.T[i,j,k] + v.T[i+1,j,k])\n",
    "                ot0 = rt1[j-1] * ot.T[i,j-1,k]\n",
    "                ot1 = rt1[j] * ot.T[i,j,k]\n",
    "                w0 = 0.5 * (w.T[i,j,k-1] + w.T[i+1,j,k-1])\n",
    "                w1 = 0.5 * (w.T[i,j,k] + w.T[i+1,j,k])\n",
    "                or0 = on.T[i,j,k-1]\n",
    "                or1 = on.T[i,j,k]\n",
    "                ut.T[i,j,k] = 0.5 * ((v0*ot0 + v1*ot1) / yt1[j] - (w0*or0 + w1*or1))\n",
    "        \n",
    "    for k in range(1,Km+1):\n",
    "        for i in range(1,Im+1):\n",
    "            for j in range(1,Jm):\n",
    "                w0 = 0.5 * (w.T[i,j,k-1] + w.T[i,j+1,k-1])\n",
    "                w1 = 0.5 * (w.T[i,j,k] + w.T[i,j+1,k])\n",
    "                ox0 = ox.T[i,j,k-1]\n",
    "                ox1 = ox.T[i,j,k]\n",
    "                u0 = 0.5 * (u.T[i-1,j,k] + u.T[i-1,j+1,k])\n",
    "                u1 = 0.5 * (u.T[i,j,k] + u.T[i,j+1,k])\n",
    "                ot0 = ot.T[i-1,j,k]\n",
    "                ot1 = ot.T[i,j,k]\n",
    "                vt.T[i,j,k] = 0.5 * ((w0*ox0 + w1*ox1) - (u0*ot0 + u1*ot1))\n",
    "        \n",
    "            vt.T[i,Jm,k] = 0.0\n",
    "            \n",
    "    for k in range(1,Km+1):\n",
    "        for j in range(1,Jm+1):\n",
    "            for i in range(1,Im+1):\n",
    "                u0 = 0.5 * (u.T[i-1,j,k] + u.T[i-1,j,k+1])\n",
    "                u1 = 0.5 * (u.T[i,j,k] + u.T[i,j,k+1])\n",
    "                or0 = on.T[i-1,j,k]\n",
    "                or1 = on.T[i,j,k]\n",
    "                v0 = 0.5 * (v.T[i,j-1,k] + v.T[i,j-1,k+1])\n",
    "                v1 = 0.5 * (v.T[i,j,k] + v.T[i,j,k+1])\n",
    "                ox0 = rt1[j-1] * ox.T[i,j-1,k]\n",
    "                ox1 = rt1[j] * ox.T[i,j,k]\n",
    "                wt.T[i,j,k] = 0.5 * ((u0*or0 + u1*or1) - (v0*ox0 + v1*ox1) / yt1[j])\n",
    "                \n",
    "    return velt"
   ]
  },
  {
   "cell_type": "code",
   "execution_count": 13,
   "metadata": {
    "collapsed": true
   },
   "outputs": [],
   "source": [
    "def get_nl_part(vel,om):\n",
    "    u,v,w = vel\n",
    "    ox,on,ot = om\n",
    "    \n",
    "    vt1 = np.zeros((Km+2,Jm+2,Im+2))\n",
    "    vt2 = np.zeros((Km+2,Jm+2,Im+2))\n",
    "    wt1 = np.zeros((Km+2,Jm+2,Im+2))\n",
    "    wt2 = np.zeros((Km+2,Jm+2,Im+2))\n",
    "       \n",
    "    for k in range(1,Km+1):\n",
    "        for i in range(1,Im+1):\n",
    "            for j in range(1,Jm):\n",
    "                w0 = 0.5 * (w.T[i,j,k-1] + w.T[i,j+1,k-1])\n",
    "                w1 = 0.5 * (w.T[i,j,k] + w.T[i,j+1,k])\n",
    "                ox0 = ox.T[i,j,k-1]\n",
    "                ox1 = ox.T[i,j,k]\n",
    "                u0 = 0.5 * (u.T[i-1,j,k] + u.T[i-1,j+1,k])\n",
    "                u1 = 0.5 * (u.T[i,j,k] + u.T[i,j+1,k])\n",
    "                ot0 = ot.T[i-1,j,k]\n",
    "                ot1 = ot.T[i,j,k]\n",
    "                vt1.T[i,j,k] = -0.5 * (u0*ot0 + u1*ot1)\n",
    "                vt2.T[i,j,k] = 0.5 * (w0*ox0 + w1*ox1)\n",
    "        \n",
    "            vt1.T[i,Jm,k] = 0.0\n",
    "            vt2.T[i,Jm,k] = 0.0\n",
    "            \n",
    "    for k in range(1,Km+1):\n",
    "        for j in range(1,Jm+1):\n",
    "            for i in range(1,Im+1):\n",
    "                u0 = 0.5 * (u.T[i-1,j,k] + u.T[i-1,j,k+1])\n",
    "                u1 = 0.5 * (u.T[i,j,k] + u.T[i,j,k+1])\n",
    "                or0 = on.T[i-1,j,k]\n",
    "                or1 = on.T[i,j,k]\n",
    "                v0 = 0.5 * (v.T[i,j-1,k] + v.T[i,j-1,k+1])\n",
    "                v1 = 0.5 * (v.T[i,j,k] + v.T[i,j,k+1])\n",
    "                ox0 = rt1[j-1] * ox.T[i,j-1,k]\n",
    "                ox1 = rt1[j] * ox.T[i,j,k]\n",
    "                wt1.T[i,j,k] = 0.5 * (u0*or0 + u1*or1)\n",
    "                wt2.T[i,j,k] = -0.5 * (v0*ox0 + v1*ox1) / yt1[j]\n",
    "                \n",
    "    return vt1, vt2, wt1, wt2"
   ]
  },
  {
   "cell_type": "code",
   "execution_count": 16,
   "metadata": {
    "collapsed": true
   },
   "outputs": [],
   "source": [
    "def get_cux(vel,om):\n",
    "    u = vel[0]\n",
    "    ox = om[0]\n",
    "    \n",
    "    cux = np.zeros((Km+2,Jm+2,Im+2))\n",
    "    for k in range(1,Km):\n",
    "        for j in range(1,Jm+1):\n",
    "            for i in range(1,Im+1):\n",
    "                cux.T[i,j,k] = - u.T[i-1:i+1, j:j+2, k:k+2].mean() * (ox.T[i+1,j,k] - ox.T[i-1,j,k]) / (2 * hx)\n",
    "\n",
    "    cux.T[:,:,Km] = 0.0\n",
    "    cux.T[:,:,0] = 0.0\n",
    "    cux.T[:,Jm,:] = 0.0\n",
    "    cux.T[:,0,:] = 0.0\n",
    "    cux.T[0] = cux.T[-2]\n",
    "    cux.T[-1] = cux.T[1]\n",
    "    return cux"
   ]
  },
  {
   "cell_type": "code",
   "execution_count": 17,
   "metadata": {
    "collapsed": true
   },
   "outputs": [],
   "source": [
    "def get_d1x(vel,om):\n",
    "    u = vel[0]\n",
    "    ox = om[0]\n",
    "        \n",
    "    d1x = np.zeros((Km+2,Jm+2,Im+2))\n",
    "    for k in range(1,Km):\n",
    "        for j in range(1,Jm+1):\n",
    "            for i in range(1,Im+1):\n",
    "                d1x.T[i,j,k] = ox.T[i,j,k] * (u.T[i,j:j+2,k:k+2].mean() - u.T[i-1,j:j+2,k:k+2].mean()) / hx\n",
    "\n",
    "    \n",
    "    d1x.T[:,:,Km] = 0.0\n",
    "    d1x.T[:,:,0] = 0.0\n",
    "    d1x.T[:,Jm,:] = 0.0\n",
    "    d1x.T[:,0,:] = 0.0\n",
    "    d1x.T[0] = d1x.T[-2]\n",
    "    d1x.T[-1] = d1x.T[1]\n",
    "    return d1x"
   ]
  },
  {
   "cell_type": "code",
   "execution_count": 18,
   "metadata": {
    "collapsed": true
   },
   "outputs": [],
   "source": [
    "def get_ox(v,w):\n",
    "    ox = np.zeros_like(v)\n",
    "\n",
    "    for j in range(0,Jm+1):\n",
    "        for k in range(0,Km+1):\n",
    "            w0 = w[k,j]\n",
    "            w1 = w[k,j+1]\n",
    "            v0 = v[k,j]\n",
    "            v1 = v[k+1,j]\n",
    "            ox[k,j] = (w1 - w0) / rt1[j] - (v1 - v0) / ht\n",
    "                \n",
    "    return ox"
   ]
  },
  {
   "cell_type": "code",
   "execution_count": 19,
   "metadata": {
    "collapsed": true
   },
   "outputs": [],
   "source": [
    "def get_nl_terms(vel,om):\n",
    "    vt1, vt2, wt1, wt2 = get_nl_part(vel,om)\n",
    "    \n",
    "    ox1 = get_ox(vt1,wt1)\n",
    "    ox2 = get_ox(vt2,wt2)\n",
    "    \n",
    "    cux = get_cux(vel,om)\n",
    "    d1x = get_d1x(vel,om)\n",
    "    \n",
    "    dtx = ox1 - cux\n",
    "    dtx[:,Jm] = 0.0\n",
    "    dtx[0] = 0.0\n",
    "    dtx[Km] = 0.0\n",
    "    ctx = ox2 - d1x\n",
    "    ctx[:,Jm] = 0.0\n",
    "    ctx[0] = 0.0\n",
    "    ctx[Km] = 0.0\n",
    "    cxx = cux + d1x\n",
    "    return cxx, ctx, dtx"
   ]
  },
  {
   "cell_type": "markdown",
   "metadata": {},
   "source": [
    "# Read/Write"
   ]
  },
  {
   "cell_type": "code",
   "execution_count": 123,
   "metadata": {
    "collapsed": true
   },
   "outputs": [],
   "source": [
    "import pipe_pytools.tools as tools"
   ]
  },
  {
   "cell_type": "code",
   "execution_count": 124,
   "metadata": {
    "collapsed": true
   },
   "outputs": [],
   "source": [
    "def init():\n",
    "    init_x()\n",
    "    init_r()\n",
    "    init_th()"
   ]
  },
  {
   "cell_type": "code",
   "execution_count": 125,
   "metadata": {
    "collapsed": true
   },
   "outputs": [],
   "source": [
    "def read_dcp(fname, is_cf_in=False):\n",
    "    \n",
    "    global cf,Re,Xmax,epsr,lx,Jm,lt,nsym\n",
    "    t,dt,Dp,Re,Xmax,epsr,lx,Jm,lt,nsym,vel = tools.get_dcp(fname)\n",
    "    \n",
    "    if is_cf_in: \n",
    "        cf = Dp\n",
    "        \n",
    "    init()\n",
    "    mod_bc(vel)\n",
    "    \n",
    "    return t,dt,vel"
   ]
  },
  {
   "cell_type": "code",
   "execution_count": 126,
   "metadata": {
    "collapsed": true
   },
   "outputs": [],
   "source": [
    "def write_dcp(fname, t, dt, vel, is_cf_in=True):\n",
    "    Dp = cf if is_cf_in else 0.0\n",
    "    tools.put_dcp(fname, t, dt, Dp, Re, Xmax, epsr, lx, Jm, lt, nsym, vel)"
   ]
  },
  {
   "cell_type": "markdown",
   "metadata": {},
   "source": [
    "# Calc"
   ]
  },
  {
   "cell_type": "markdown",
   "metadata": {},
   "source": [
    "# Elementary"
   ]
  },
  {
   "cell_type": "code",
   "execution_count": 127,
   "metadata": {
    "collapsed": true
   },
   "outputs": [],
   "source": [
    "def thmean(vel):\n",
    "    VEL = np.empty_like(vel)\n",
    "    VEL[:] = vel[1:-1].mean(0)\n",
    "    return VEL"
   ]
  },
  {
   "cell_type": "code",
   "execution_count": 128,
   "metadata": {
    "collapsed": true
   },
   "outputs": [],
   "source": [
    "def xmean(vel):\n",
    "    VEL = np.empty_like(vel)\n",
    "    VEL.T[:] = vel.T[1:-1].mean(0)\n",
    "    return VEL"
   ]
  },
  {
   "cell_type": "code",
   "execution_count": 129,
   "metadata": {
    "collapsed": false
   },
   "outputs": [],
   "source": [
    "def cs_mean(u):\n",
    "    return ((u[1:-1].mean(0).T * rt1)[1:-1].sum(-1))"
   ]
  },
  {
   "cell_type": "markdown",
   "metadata": {},
   "source": [
    "# Plots"
   ]
  },
  {
   "cell_type": "code",
   "execution_count": 48,
   "metadata": {
    "collapsed": true
   },
   "outputs": [],
   "source": [
    "def cs_plot(*args, **kwargs):\n",
    "    plt.contourf(*args, **kwargs)\n",
    "    plt.xlim(0,Zmax)\n",
    "    plt.ylim(0,1)\n",
    "    ax = plt.gca()\n",
    "    ax.xaxis.set_major_locator(plt.NullLocator())\n",
    "    ax.yaxis.set_major_locator(plt.NullLocator())\n",
    "    ax.set_aspect('equal')"
   ]
  },
  {
   "cell_type": "code",
   "execution_count": 49,
   "metadata": {
    "collapsed": true
   },
   "outputs": [],
   "source": [
    "def aplot(n):\n",
    "    a = np.loadtxt(\"a0.dat\", usecols=[0,n], unpack=True)\n",
    "    plt.plot(a[0],a[1])"
   ]
  },
  {
   "cell_type": "code",
   "execution_count": 53,
   "metadata": {
    "collapsed": false
   },
   "outputs": [],
   "source": [
    "def get_xmeans(vel):\n",
    "    U,V,W = VEL = vel.T[1:-1].mean(0).T\n",
    "    vel1T = vel.T - VEL.T\n",
    "    \n",
    "    vel1T[:,0,:,1] = 0.0\n",
    "    vel1T[:,Jm,:,1] = 0.0\n",
    "    vel1T[:,:,0,2] = 0.0\n",
    "    vel1T[:,:,Km,2] = 0.0\n",
    "    \n",
    "    puls = np.zeros_like(U)\n",
    "    for k in range(1,Km+1):\n",
    "        for j in range(1,Jm+1):\n",
    "            for i in range(1,Im+1):\n",
    "                puls[k,j] = vel1T[i,j,k,0]**2 + \\\n",
    "                0.25*(vel1T[i,j-1,k,1] + vel1T[i,j,k,1])**2 + \\\n",
    "                0.25*(vel1T[i,j,k-1,2] + vel1T[i,j,k,2])**2\n",
    "    puls /= Im\n",
    "    puls **= 0.5\n",
    "    return U,V,W,puls"
   ]
  },
  {
   "cell_type": "code",
   "execution_count": 54,
   "metadata": {
    "collapsed": false
   },
   "outputs": [],
   "source": [
    "def xmeans_plot(vel):\n",
    "    U,V,W,P = get_xmeans(vel)\n",
    "    OX = get_ox(V,W)\n",
    "    \n",
    "    plt.subplot(1,3,1)\n",
    "    umax = U[1:-1,1:-1].max()\n",
    "    cs_plot(thf, yf, U.T, np.linspace(0, 1, 21))\n",
    "    plt.xlabel(\"U, max=%f\" % umax, fontsize=14)\n",
    "    \n",
    "    plt.subplot(1,3,2)\n",
    "    oxm = OX[1:-1,1:-1].max()\n",
    "    cs_plot(thn, yn, OX.T, np.linspace(-oxm, oxm, 21))\n",
    "    plt.xlabel(\"OX, max=%f\" % oxm, fontsize=14)\n",
    "    \n",
    "    plt.subplot(1,3,3)\n",
    "    pm = P[1:-1,1:-1].max()\n",
    "    cs_plot(thn, yn, P.T, np.linspace(0, pm, 21))\n",
    "    plt.xlabel(\"puls, max=%f\" % pm, fontsize=14)"
   ]
  },
  {
   "cell_type": "markdown",
   "metadata": {
    "collapsed": true
   },
   "source": [
    "# Calc"
   ]
  },
  {
   "cell_type": "code",
   "execution_count": 29,
   "metadata": {
    "collapsed": true
   },
   "outputs": [],
   "source": [
    "def MPI_calc(vel, t1, dtmax, t2=0, dt=0, kprt=1, kwrt=10000, tol=0.01, \n",
    "             cpfn=\"tmp.dcp\", prtfn=\"a0.dat\", np=4, run_file=\"duct.out\"):\n",
    "    if t2:\n",
    "        t = t1\n",
    "        tmax = t2\n",
    "    else:\n",
    "        t = 0.0\n",
    "        tmax = t1\n",
    "        !rm -f $prtfn\n",
    "        \n",
    "    if not dt:\n",
    "        dt = dtmax\n",
    "    \n",
    "    if cf != cf: \n",
    "        Exception(\"cf is nan\")\n",
    "        \n",
    "    write_dcp(cpfn, t, dt, vel)\n",
    "    tools.put_car(tmax, dt, cf, cpfn, tol=tol, kprt=kprt, kwrt=kwrt, prtfn=prtfn, fname=\"duct.car\")\n",
    "    comand = \"mpirun -np %d ./%s\" % (np, run_file)\n",
    "    !$comand\n",
    "    t,dt,vel = read_dcp(fncp)\n",
    "    \n",
    "    return t,dt,vel"
   ]
  },
  {
   "cell_type": "code",
   "execution_count": null,
   "metadata": {
    "collapsed": true
   },
   "outputs": [],
   "source": []
  }
 ],
 "metadata": {
  "kernelspec": {
   "display_name": "Python 2",
   "language": "python",
   "name": "python2"
  },
  "language_info": {
   "codemirror_mode": {
    "name": "ipython",
    "version": 2
   },
   "file_extension": ".py",
   "mimetype": "text/x-python",
   "name": "python",
   "nbconvert_exporter": "python",
   "pygments_lexer": "ipython2",
   "version": "2.7.10"
  }
 },
 "nbformat": 4,
 "nbformat_minor": 0
}
