{
 "cells": [
  {
   "cell_type": "code",
   "execution_count": 1,
   "metadata": {
    "collapsed": true
   },
   "outputs": [],
   "source": [
    "import numpy as np\n",
    "import math"
   ]
  },
  {
   "cell_type": "code",
   "execution_count": 2,
   "metadata": {
    "collapsed": true
   },
   "outputs": [],
   "source": [
    "import matplotlib.pyplot as plt\n",
    "%matplotlib inline"
   ]
  },
  {
   "cell_type": "markdown",
   "metadata": {},
   "source": [
    "# Grid"
   ]
  },
  {
   "cell_type": "code",
   "execution_count": 3,
   "metadata": {
    "collapsed": true
   },
   "outputs": [],
   "source": [
    "class Rrt:\n",
    "    def __init__(self, y0, y01):\n",
    "        yp = lambda a,b: 0.01 * math.sqrt(0.3*(b+1)) * (a*(58.*b-21.-21.*b*b)+100.)\n",
    "        y1p = lambda a,b: 1. + a * (b - 0.45 * (b+1.)**2)\n",
    "        dyda = lambda a,b: 0.01 * math.sqrt(0.3*(b+1)) * (58.*b - 21. - 21.*b*b)\n",
    "        dydb = lambda a,b: 0.01 * math.sqrt(0.3*(b+1)) * (0.5 * (a*(58.*b - 21. - 21.*b*b) + 100.)/(b+1) + a*(58.-42*b))\n",
    "        dy1da = lambda a,b: b - 0.45 * (b+1.)**2\n",
    "        dy1db = lambda a,b: a * (1. - 0.9*(b+1.))\n",
    "\n",
    "        a = 0.0\n",
    "        b = 10. / 3.*y0*y0 - 1.\n",
    "\n",
    "        while True:\n",
    "            c1 = dyda(a,b)\n",
    "            c2 = dydb(a,b)\n",
    "            c3 = y0 - yp(a,b)\n",
    "            c4 = dy1da(a,b)\n",
    "            c5 = dy1db(a,b)\n",
    "            c6 = y01 - y1p(a,b)\n",
    "            d  = c1*c5 - c2*c4\n",
    "            da = (c3*c5 - c2*c6) / d\n",
    "            db = (c1*c6 - c3*c4) / d\n",
    "            a = a + da\n",
    "            b = b + db\n",
    "            if abs(da) < 1.e-5 and abs(db) < 1.e-5: \n",
    "                break\n",
    "\n",
    "        self.aset = a\n",
    "        self.bset = b\n",
    "\n",
    "    i0 = lambda self, x: x * (1. + self.aset * (1. - x**2) * (self.bset - x**2))\n",
    "    i1 = lambda self, x: 1. + self.aset * (self.bset - 3.*(1.+self.bset)*x**2 + 5.*x**4)"
   ]
  },
  {
   "cell_type": "code",
   "execution_count": 4,
   "metadata": {
    "collapsed": false
   },
   "outputs": [],
   "source": [
    "Xmax,Zmax,epsr,nsym,curv = 5*[float(\"nan\")]\n",
    "xf,xn,hx,lx,Im = None, None, float('nan'), 0, 1\n",
    "rn,rt,rt1,rf,yt,yt1,Jm = 6*[None] + [1]\n",
    "thn,thf,ht,lt,Km = None, None, float('nan'), 0, 1\n",
    "Re = float('nan')\n",
    "cf = float('nan')"
   ]
  },
  {
   "cell_type": "code",
   "execution_count": 5,
   "metadata": {
    "collapsed": false
   },
   "outputs": [],
   "source": [
    "def init_r():\n",
    "    global rn, rt, rt1, rf, yt, yt1\n",
    "    \n",
    "    hr = 1.0 / Jm\n",
    "    rrt = Rrt(1.0, epsr)\n",
    "\n",
    "    ros = np.linspace(0, 1+hr, Jm+2)\n",
    "    rn = np.array([rrt.i0(ro) for ro in ros])\n",
    "    rt = curv + rn * (1.0 - curv)\n",
    "    rt1 = np.array([rrt.i1(ro)*hr for ro in ros])\n",
    "\n",
    "    ros -= hr/2\n",
    "    rf = np.array([rrt.i0(ro) for ro in ros])\n",
    "    yt = curv + rf * (1.0 - curv)\n",
    "    yt1 = np.array([rrt.i1(ro)*hr for ro in ros])\n",
    "    \n",
    "    \n",
    "    \n",
    "\n",
    "def init_th():\n",
    "    global thn, thf, ht, Km, Zmax\n",
    "    \n",
    "    Km = 2**lt\n",
    "    Zmax = (curv * 2.4 + (1.0 - curv) * math.pi) / nsym\n",
    "    ht = Zmax / Km\n",
    "    thn = np.linspace(0, Zmax+ht, Km+2)\n",
    "    thf = thn - 0.5*ht\n",
    "\n",
    "def init_x():\n",
    "    global xn, xf, hx, Im\n",
    "    \n",
    "    Im = 2**lx\n",
    "    hx = Xmax / Im\n",
    "    xn = np.linspace(0, Xmax+hx, Im+2)\n",
    "    xf = xn - 0.5*hx\n",
    "\n",
    "def __str__():\n",
    "    ret = \"## sym geometry module, characteristic units is R and Umax=2*Ubulk \\n\"\n",
    "    ret += \"Xmax * Ymax * Zmax = %f x %f x %f\\n\" % (Xmax, 1.0, Zmax)\n",
    "    ret += \"Im * Jm * Km = %d x %d x %d\\n\" % (Im,Jm,Km)\n",
    "    ret += \"epsr=%f, nsym=%f, hx=%f, ht=%f\\n\" % (epsr, nsym, hx, ht)\n",
    "    ret += \"Re=%f, cf=%f, \" % (Re, cf)\n",
    "    if curv == 0.0:\n",
    "        ret += \"'pipe'\"\n",
    "    elif curv == 1.0:\n",
    "        ret += \"'duct'\"\n",
    "    else:\n",
    "        ret += \"curv=%f\" % curv\n",
    "    return ret"
   ]
  },
  {
   "cell_type": "code",
   "execution_count": 6,
   "metadata": {
    "collapsed": false
   },
   "outputs": [
    {
     "name": "stdout",
     "output_type": "stream",
     "text": [
      "## sym geometry module, characteristic units is R and Umax=2*Ubulk \n",
      "Xmax * Ymax * Zmax = nan x 1.000000 x nan\n",
      "Im * Jm * Km = 1 x 1 x 1\n",
      "epsr=nan, nsym=nan, hx=nan, ht=nan\n",
      "Re=nan, cf=nan, curv=nan\n"
     ]
    }
   ],
   "source": [
    "print __str__()"
   ]
  },
  {
   "cell_type": "markdown",
   "metadata": {},
   "source": [
    "# Calc"
   ]
  },
  {
   "cell_type": "code",
   "execution_count": 7,
   "metadata": {
    "collapsed": true
   },
   "outputs": [],
   "source": [
    "def mod_bc(vel):\n",
    "    u,v,w = vel\n",
    "        \n",
    "    vel[:,:,:,0] = vel[:,:,:,-2]\n",
    "    vel[:,:,:,-1] = vel[:,:,:,1]\n",
    "    \n",
    "    for i in xrange(0,Im+1):\n",
    "        for j in xrange(0,Jm+2):\n",
    "            u.T[i,j,0] = u.T[i,j,1]\n",
    "            u.T[i,j,Km+1] = u.T[i,j,Km]\n",
    "            \n",
    "        for k in xrange(0,Km+2):\n",
    "            u.T[i,0,k] = u.T[i,1,k]\n",
    "            u.T[i,Jm+1,k] = - u.T[i,Jm,k]\n",
    "            \n",
    "    for k in xrange(0,Km+2):\n",
    "        for i in xrange(0,Im+2):\n",
    "            v.T[i,0,k] = 0.0\n",
    "            v.T[i,Jm,k] = 0.0\n",
    "            \n",
    "    for j in xrange(0,Jm+1):\n",
    "        for i in xrange(0,Im+2):\n",
    "            v.T[i,j,0] = v.T[i,j,1]\n",
    "            v.T[i,j,Km+1] = v.T[i,j,Km]\n",
    "            \n",
    "    for j in range(0,Jm+2):\n",
    "        for i in range(0,Im+2):\n",
    "            w.T[i,j,0] = 0.0\n",
    "            w.T[i,j,Km] = 0.0\n",
    "            \n",
    "    for k in range(0,Km+1):\n",
    "        for i in range(0,Im+2):\n",
    "            w.T[i,0,k] = w.T[i,1,k] * yt[1] / yt[0]\n",
    "            w.T[i,Jm+1,k] = - w.T[i,Jm,k] * yt[Jm] / yt[Jm+1]"
   ]
  },
  {
   "cell_type": "code",
   "execution_count": 8,
   "metadata": {
    "collapsed": true
   },
   "outputs": [],
   "source": [
    "def get_om(vel):\n",
    "    mod_bc(vel)\n",
    "    u,v,w = vel\n",
    "    \n",
    "    om = np.zeros((3,Km+2,Jm+2,Im+2))\n",
    "    ox,on,ot = om\n",
    "    \n",
    "    for i in range(1,Im+1):\n",
    "        for j in range(0,Jm+1):\n",
    "            for k in range(0,Km+1):\n",
    "                w0 = w.T[i,j,k]\n",
    "                w1 = w.T[i,j+1,k]\n",
    "                v0 = v.T[i,j,k]\n",
    "                v1 = v.T[i,j,k+1]\n",
    "                ox.T[i,j,k] = ((yt[j+1]*w1 - yt[j]*w0) / rt1[j] - (v1 - v0) / ht) / rt[j]\n",
    "                \n",
    "    for k in range(0,Km+1):\n",
    "        for j in range(1,Jm+1):\n",
    "            for i in range(0,Im+1):\n",
    "                u0 = u.T[i,j,k]\n",
    "                u1 = u.T[i,j,k+1]\n",
    "                w0 = w.T[i,j,k]\n",
    "                w1 = w.T[i+1,j,k]\n",
    "                on.T[i,j,k] = (u1 - u0) / (yt[j] * ht) - (w1 - w0) / hx\n",
    "                \n",
    "    for k in range(1,Km+1):\n",
    "        for j in range(0,Jm+1):\n",
    "            for i in range(0,Im+1):\n",
    "                u0 = u.T[i,j,k]\n",
    "                u1 = u.T[i,j+1,k]\n",
    "                v0 = v.T[i,j,k]\n",
    "                v1 = v.T[i+1,j,k]\n",
    "                ot.T[i,j,k] = (v1 - v0) / hx - (u1 - u0) / rt1[j]\n",
    "    \n",
    "    return om"
   ]
  },
  {
   "cell_type": "markdown",
   "metadata": {},
   "source": [
    "# Read/Write"
   ]
  },
  {
   "cell_type": "code",
   "execution_count": 9,
   "metadata": {
    "collapsed": true
   },
   "outputs": [],
   "source": [
    "import pipe_pytools.tools as tools"
   ]
  },
  {
   "cell_type": "code",
   "execution_count": 10,
   "metadata": {
    "collapsed": true
   },
   "outputs": [],
   "source": [
    "def init():\n",
    "    init_x()\n",
    "    init_r()\n",
    "    init_th()"
   ]
  },
  {
   "cell_type": "code",
   "execution_count": 11,
   "metadata": {
    "collapsed": true
   },
   "outputs": [],
   "source": [
    "def read_scp(fname, is_cf_in=False):\n",
    "    global cf,Re,Xmax,epsr,lx,Jm,lt,nsym,curv\n",
    "    t,dt,Dp,Re,Xmax,epsr,lx,Jm,lt,nsym,vel = tools.get_scp(fname)\n",
    "    curv = 0.0\n",
    "    if is_cf_in: \n",
    "        cf = Dp\n",
    "    init()\n",
    "    mod_bc(vel)\n",
    "    return t,dt,vel"
   ]
  },
  {
   "cell_type": "code",
   "execution_count": 12,
   "metadata": {
    "collapsed": true
   },
   "outputs": [],
   "source": [
    "def read_dcp(fname, curv1, is_cf_in=False):\n",
    "    global cf,Re,Xmax,epsr,lx,Jm,lt,nsym,curv\n",
    "    t,dt,Dp,Re,Xmax,epsr,lx,Jm,lt,nsym,vel = tools.get_dcp(fname)\n",
    "    curv = curv1\n",
    "    if is_cf_in: \n",
    "        cf = Dp\n",
    "    init()\n",
    "    mod_bc(vel)\n",
    "    return t,dt,vel"
   ]
  },
  {
   "cell_type": "code",
   "execution_count": 13,
   "metadata": {
    "collapsed": false
   },
   "outputs": [],
   "source": [
    "def read_ccp(fname, is_cf_in=False):\n",
    "    global cf,Re,Xmax,epsr,lx,Jm,lt,nsym,curv\n",
    "    t,dt,Dp,Re,Xmax,epsr,lx,Jm,lt,nsym,curv,vel = tools.get_ccp(fname)\n",
    "    if is_cf_in:\n",
    "        cf = Dp\n",
    "    init()\n",
    "    mod_bc(vel)\n",
    "    return t,dt,vel"
   ]
  },
  {
   "cell_type": "code",
   "execution_count": 14,
   "metadata": {
    "collapsed": true
   },
   "outputs": [],
   "source": [
    "def read(fname, curv=-1, is_cf_in=False):\n",
    "    if fname[-4:] == \".scp\":\n",
    "        return read_scp(fname, is_cf_in)\n",
    "    if fname[-4:] == \".dcp\":\n",
    "        if curv < 0.0: raise Exception(\"curv?\")\n",
    "        return read_dcp(fname, curv, is_cf_in)\n",
    "    if fname[-4:] == \".ccp\":\n",
    "        return read_ccp(fname, is_cf_in)"
   ]
  },
  {
   "cell_type": "code",
   "execution_count": 15,
   "metadata": {
    "collapsed": true
   },
   "outputs": [],
   "source": [
    "def write_scp(fname, t, dt, vel):\n",
    "    if round(nsym) != nsym:\n",
    "        print \"WARNING! nsym is not int\"\n",
    "    if curv != 0.0:\n",
    "        print \"WARNING! geometry is not pipe\"\n",
    "    tools.put_scp(fname, t, dt, cf, Re, Xmax, epsr, lx, Jm, lt, round(nsym), vel)"
   ]
  },
  {
   "cell_type": "code",
   "execution_count": 16,
   "metadata": {
    "collapsed": true
   },
   "outputs": [],
   "source": [
    "def write_dcp(fname, t, dt, vel):\n",
    "    if curv != 0.0 and curv != 1.0:\n",
    "        print \"WARNING! curv is sufficient\"\n",
    "    tools.put_dcp(fname, t, dt, cf, Re, Xmax, epsr, lx, Jm, lt, nsym, vel)"
   ]
  },
  {
   "cell_type": "code",
   "execution_count": 17,
   "metadata": {
    "collapsed": true
   },
   "outputs": [],
   "source": [
    "def write_ccp(fname, t, dt, vel):\n",
    "    tools.put_dcp(fname, t, dt, cf, Re, Xmax, epsr, lx, Jm, lt, nsym, curv, vel)"
   ]
  },
  {
   "cell_type": "markdown",
   "metadata": {},
   "source": [
    "# Calc"
   ]
  },
  {
   "cell_type": "markdown",
   "metadata": {},
   "source": [
    "# Elementary"
   ]
  },
  {
   "cell_type": "code",
   "execution_count": 18,
   "metadata": {
    "collapsed": true
   },
   "outputs": [],
   "source": [
    "def thmean(vel):\n",
    "    Vel = np.empty_like(vel)\n",
    "    Vel[:] = vel[1:-1].mean(0)\n",
    "    return Vel"
   ]
  },
  {
   "cell_type": "code",
   "execution_count": 19,
   "metadata": {
    "collapsed": true
   },
   "outputs": [],
   "source": [
    "def xmean(vel):\n",
    "    Vel = np.empty_like(vel)\n",
    "    Vel.T[:] = vel.T[1:-1].mean(0)\n",
    "    return Vel"
   ]
  },
  {
   "cell_type": "code",
   "execution_count": 20,
   "metadata": {
    "collapsed": false
   },
   "outputs": [],
   "source": [
    "def cs_mean(u):\n",
    "    if len(u.shape) != 3: raise Exception(\"u.shape should be (Km+2,Jm+2) or (Km+2,Jm+2,..)!\")\n",
    "    return ((u.T[:,:,1:-1].mean(-1) * rf * rf1)[:,1:-1].sum(-1)) / (rf * rf1)[1:-1].sum()"
   ]
  },
  {
   "cell_type": "markdown",
   "metadata": {},
   "source": [
    "# Plots"
   ]
  },
  {
   "cell_type": "code",
   "execution_count": 21,
   "metadata": {
    "collapsed": true
   },
   "outputs": [],
   "source": [
    "import matplotlib.tri as tri"
   ]
  },
  {
   "cell_type": "code",
   "execution_count": 22,
   "metadata": {
    "collapsed": true
   },
   "outputs": [],
   "source": [
    "import pipe_pytools.polar_plot as pp"
   ]
  },
  {
   "cell_type": "code",
   "execution_count": 19,
   "metadata": {
    "collapsed": true
   },
   "outputs": [],
   "source": [
    "def pipe_contourf(th, r, u, levels, cmap=\"jet\"):\n",
    "    R = curv / (1.0 - curv)\n",
    "    radius = R + r\n",
    "    theta = (th - th.mean()) / (R + 1) - math.pi / 2\n",
    "    angles = np.repeat(theta[ ..., np.newaxis ], radius.shape[0], axis = 1)\n",
    "\n",
    "    x = (radius * np.cos( angles )).flatten()\n",
    "    y = (radius * np.sin( angles )).flatten()\n",
    "    triang = tri.Triangulation(x, y)\n",
    "\n",
    "    z = u.flatten()\n",
    "\n",
    "    scmap = plt.get_cmap(cmap)\n",
    "\n",
    "    \n",
    "    plt.tricontourf( triang, z, levels, cmap=scmap)\n",
    "\n",
    "    ax = plt.gca()\n",
    "    #ax.xaxis.set_major_locator(plt.NullLocator())\n",
    "    #ax.yaxis.set_major_locator(plt.NullLocator())\n",
    "    ax.set_axis_off()\n",
    "    ax.set_aspect('equal')\n",
    "    return\n"
   ]
  },
  {
   "cell_type": "code",
   "execution_count": null,
   "metadata": {
    "collapsed": true
   },
   "outputs": [],
   "source": [
    "def curv_contourf()"
   ]
  },
  {
   "cell_type": "code",
   "execution_count": 39,
   "metadata": {
    "collapsed": false
   },
   "outputs": [
    {
     "ename": "IndentationError",
     "evalue": "expected an indented block (<ipython-input-39-7b1469a7de1a>, line 2)",
     "output_type": "error",
     "traceback": [
      "\u001b[1;36m  File \u001b[1;32m\"<ipython-input-39-7b1469a7de1a>\"\u001b[1;36m, line \u001b[1;32m2\u001b[0m\n\u001b[1;33m    \u001b[0m\n\u001b[1;37m    ^\u001b[0m\n\u001b[1;31mIndentationError\u001b[0m\u001b[1;31m:\u001b[0m expected an indented block\n"
     ]
    }
   ],
   "source": [
    "def curv_cs_plot(u):\n",
    "    "
   ]
  },
  {
   "cell_type": "code",
   "execution_count": 25,
   "metadata": {
    "collapsed": true
   },
   "outputs": [],
   "source": [
    "def aplot(n):\n",
    "    a = np.loadtxt(\"a0.dat\", usecols=[0,n], unpack=True)\n",
    "    plt.plot(a[0],a[n])"
   ]
  },
  {
   "cell_type": "code",
   "execution_count": null,
   "metadata": {
    "collapsed": true
   },
   "outputs": [],
   "source": [
    "def tw_map(vel):\n",
    "    VEL = xmean(vel)\n",
    "    OX = get_om(VEL)\n",
    "    puls = (vel**2 - VEL**2).sum(0).T[1:-1].mean(0).T**0.5\n",
    "    duct_cs_ucontourf(puls)"
   ]
  },
  {
   "cell_type": "markdown",
   "metadata": {},
   "source": [
    "# Test space"
   ]
  },
  {
   "cell_type": "code",
   "execution_count": 22,
   "metadata": {
    "collapsed": false
   },
   "outputs": [],
   "source": [
    "t,dt,vel = read(\"../../experiments/orig-tw/tw2200new/tw2200Xmax5new.scp\", is_cf_in=True)"
   ]
  },
  {
   "cell_type": "code",
   "execution_count": 23,
   "metadata": {
    "collapsed": false
   },
   "outputs": [
    {
     "name": "stdout",
     "output_type": "stream",
     "text": [
      "## sym geometry module, characteristic units is R and Umax=2*Ubulk \n",
      "Xmax * Ymax * Zmax = 5.000000 x 1.000000 x 1.570796\n",
      "Im * Jm * Km = 64 x 40 x 32\n",
      "epsr=0.250000, nsym=2.000000, hx=0.078125, ht=0.049087\n",
      "Re=2257.670822, cf=0.650426, 'pipe'\n"
     ]
    }
   ],
   "source": [
    "print __str__()"
   ]
  },
  {
   "cell_type": "code",
   "execution_count": 24,
   "metadata": {
    "collapsed": false,
    "scrolled": true
   },
   "outputs": [
    {
     "ename": "TypeError",
     "evalue": "curv_cs_ucontourf() takes at least 4 arguments (1 given)",
     "output_type": "error",
     "traceback": [
      "\u001b[1;31m---------------------------------------------------------------------------\u001b[0m",
      "\u001b[1;31mTypeError\u001b[0m                                 Traceback (most recent call last)",
      "\u001b[1;32m<ipython-input-24-773462733248>\u001b[0m in \u001b[0;36m<module>\u001b[1;34m()\u001b[0m\n\u001b[1;32m----> 1\u001b[1;33m \u001b[0mcurv_cs_ucontourf\u001b[0m\u001b[1;33m(\u001b[0m\u001b[0mvel\u001b[0m\u001b[1;33m[\u001b[0m\u001b[1;36m0\u001b[0m\u001b[1;33m,\u001b[0m\u001b[1;33m:\u001b[0m\u001b[1;33m,\u001b[0m\u001b[1;33m:\u001b[0m\u001b[1;33m,\u001b[0m\u001b[1;36m10\u001b[0m\u001b[1;33m]\u001b[0m\u001b[1;33m)\u001b[0m\u001b[1;33m\u001b[0m\u001b[0m\n\u001b[0m",
      "\u001b[1;31mTypeError\u001b[0m: curv_cs_ucontourf() takes at least 4 arguments (1 given)"
     ]
    }
   ],
   "source": [
    "curv_cs_ucontourf(vel[0,:,:,10])"
   ]
  },
  {
   "cell_type": "code",
   "execution_count": null,
   "metadata": {
    "collapsed": true
   },
   "outputs": [],
   "source": []
  }
 ],
 "metadata": {
  "kernelspec": {
   "display_name": "Python 2",
   "language": "python",
   "name": "python2"
  },
  "language_info": {
   "codemirror_mode": {
    "name": "ipython",
    "version": 2
   },
   "file_extension": ".py",
   "mimetype": "text/x-python",
   "name": "python",
   "nbconvert_exporter": "python",
   "pygments_lexer": "ipython2",
   "version": "2.7.10"
  }
 },
 "nbformat": 4,
 "nbformat_minor": 0
}
