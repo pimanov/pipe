{
 "cells": [
  {
   "cell_type": "code",
   "execution_count": 2,
   "metadata": {
    "collapsed": true
   },
   "outputs": [],
   "source": [
    "import pipeSym_wrapper as wr"
   ]
  },
  {
   "cell_type": "code",
   "execution_count": 35,
   "metadata": {
    "collapsed": false
   },
   "outputs": [],
   "source": [
    "def update_ht(ht):\n",
    "    wr.dimt.ht = ht\n",
    "    Km = wr.dimt.Km\n",
    "        \n",
    "    for k in range(0,Km):\n",
    "        wr.rlt.rlt[k+1] = (2.0 / ht * _math.sin(0.5 * k * _math.pi / Km))**2"
   ]
  },
  {
   "cell_type": "code",
   "execution_count": 36,
   "metadata": {
    "collapsed": true
   },
   "outputs": [],
   "source": [
    "def update_hx(hx):\n",
    "    wr.dimx.hx = hx\n",
    "    Im = wr.dimx.Im\n",
    "    wr.dim.Xmax = wr.dimx.hx * Im\n",
    "\n",
    "    for i in xrange(0, Im/2 +1):\n",
    "        wr.rlx.rlx[i+1] = (2.0 / hx * _math.sin(i * _math.pi / Im))**2\n",
    "\n",
    "    for i in range(1, Im/2):\n",
    "        i1 = Im + 1 - i\n",
    "        wr.rlx.rlx[i1] = wr.rlx.rlx[i+1]\n",
    "    "
   ]
  },
  {
   "cell_type": "code",
   "execution_count": 38,
   "metadata": {
    "collapsed": true
   },
   "outputs": [],
   "source": [
    "def divmax(vel):\n",
    "    return wr.divmax(vel[0], vel[1], vel[2])"
   ]
  },
  {
   "cell_type": "code",
   "execution_count": 41,
   "metadata": {
    "collapsed": false
   },
   "outputs": [],
   "source": [
    "def ffmean(u):\n",
    "    return wr.mean(u)"
   ]
  },
  {
   "cell_type": "code",
   "execution_count": 18,
   "metadata": {
    "collapsed": true
   },
   "outputs": [],
   "source": [
    "def init(Xmax=None, epsr=None, nsym=None, lx=None, lt=None, Im=None, Jm=None, Km=None, \n",
    "         vel=None, hx=None, ht=None, Re=None):\n",
    "    \n",
    "    if(Re != None): wr.Re.Re = Re\n",
    "    if(Xmax != None): wr.dim.Xmax = Xmax\n",
    "    if(epsr != None): wr.dim.epsr = epsr\n",
    "        \n",
    "    if(nsym != None):\n",
    "        if(nsym % 1.0 == 0.0):\n",
    "            wr.dim.nsym = nsym\n",
    "        else:\n",
    "            wr.dim.nsym = 2.0\n",
    "            calc_ht = True\n",
    "        \n",
    "    if(vel != None): \n",
    "        Im = vel.shape[1] - 2\n",
    "        Jm = vel.shape[2] - 2\n",
    "        Km = vel.shape[3] - 2\n",
    "        \n",
    "    if(Im != None): \n",
    "        lx = _math.log(Im,2)\n",
    "        if(2**lx != Im):\n",
    "            print \"###Error! Im != 2**n\"\n",
    "            return\n",
    "            \n",
    "    if(Km != None): \n",
    "        lt = _math.log(Km,2)\n",
    "        if(2**lt != Km):\n",
    "            print \"###Error! Km != 2**n\"\n",
    "            return\n",
    "        \n",
    "    if(lx != None): wr.dimx.lx = lx\n",
    "    if(Jm != None): wr.dimr.Jm = Jm\n",
    "    if(lt != None): wr.dimt.lt = lt\n",
    "        \n",
    "    wr.com()\n",
    "    \n",
    "    if(calc_ht == True): ht = _math.pi / (nsym * wr.dimt.Km)\n",
    "    \n",
    "    if(ht != None): update_ht(ht)\n",
    "    if(hx != None): update_hx(hx)\n",
    "        \n",
    "    return\n"
   ]
  },
  {
   "cell_type": "code",
   "execution_count": 13,
   "metadata": {
    "collapsed": true
   },
   "outputs": [],
   "source": [
    "def step(t, dt, vel, velt, om, p, cf, tol=0.01):\n",
    "    t, dt = wr.step(t, dt, tol, vel[0], vel[1], vel[2], velt[0], velt[1], velt[2], om[0], om[1], om[2], p, cf)\n",
    "    return t, dt, vel, velt, om, p"
   ]
  },
  {
   "cell_type": "code",
   "execution_count": 15,
   "metadata": {
    "collapsed": true
   },
   "outputs": [],
   "source": [
    "def rp(t, vel, velt, om):\n",
    "    wr.rp(t, vel[0], vel[1], vel[2], velt[0], velt[1], velt[2], om[0], om[1], om[2])\n",
    "    return velt, om"
   ]
  },
  {
   "cell_type": "code",
   "execution_count": 17,
   "metadata": {
    "collapsed": true
   },
   "outputs": [],
   "source": [
    "def pres(vel, p, ub):\n",
    "    wr.pres(vel[0], vel[1], vel[2], p, ub)\n",
    "    return vel, p"
   ]
  },
  {
   "cell_type": "code",
   "execution_count": 11,
   "metadata": {
    "collapsed": true
   },
   "outputs": [],
   "source": [
    "import numpy as _np\n",
    "import math as _math\n",
    "\n",
    "def calc(vel, dtmax, cf=0.0, Re=None, velt=None, om=None, p=None, maxnstep=None, tmax=None, ht=None, hx=None, \n",
    "         tol=0.01, time=0.0, dt=None, prt=None, ampmax=None, ampmin=None, const_dt_chec=False):    \n",
    "        \n",
    "    if(hx != None): update_hx(hx)\n",
    "    if(ht != None): update_ht(ht)\n",
    "    if(Re != None): wr.Re.Re = Re\n",
    "    if(dt == None): dt = dtmax\n",
    "\n",
    "    if(om == None):\n",
    "        om = _np.zeros_like(vel)\n",
    "        \n",
    "    if(velt == None): \n",
    "        velt = _np.zeros_like(vel)\n",
    "        wr.rp(time, vel[0], vel[1], vel[2], velt[0], velt[1], velt[2], om[0], om[1], om[2])\n",
    "        \n",
    "    if(p == None):\n",
    "        p = _np.zeros_like(vel[0])\n",
    "        wr.pres(vel[0], vel[1], vel[2], p, 0.5)\n",
    "        \n",
    "    nstep = 0\n",
    "    break_cond_chec = False\n",
    "    while(true):\n",
    "        if(tmax != None):\n",
    "            break_cond_chec = True\n",
    "            if(time > tmax + 0.1*dt): \n",
    "                print \"Planned break! tmax reached\"\n",
    "                break\n",
    "    \n",
    "        time, dt1 = step(time, dt, tol, vel[0], vel[1], vel[2], velt[0], velt[1], velt[2], om[0], om[1], om[2], p, cf)\n",
    "        \n",
    "        if(const_dt_chec == True):\n",
    "            if(dt1 != dt): \n",
    "                print \"###Forced break! dt has changed\"\n",
    "                break\n",
    "        else: \n",
    "            dt = min(dt1, dtmax)\n",
    "        \n",
    "        if(prt != None): \n",
    "            amp = prt(time, dt, vel, velt, om, p, cf)\n",
    "            \n",
    "            if(ampmax != None): \n",
    "                break_cond_chec = True\n",
    "                if(amp > ampmax): \n",
    "                    print \"Planned break! ampmax reached\"\n",
    "                    break\n",
    "            \n",
    "            if(ampmin != None): \n",
    "                break_cond_chec = True\n",
    "                if(amp < ampmin): \n",
    "                    print \"Planned break! ampmin reached\"\n",
    "                    break\n",
    "                \n",
    "        nstep += 1\n",
    "        if(nstep != None):\n",
    "            break_cond_chec = True\n",
    "            if (nstep >= maxnstep): \n",
    "                print \"Planned break! maxnstep reached\"\n",
    "                break\n",
    "                \n",
    "                \n",
    "        if(break_cond_chec == False):\n",
    "            print \"No break condition set. Forced break!\"\n",
    "            break\n",
    "    \n",
    "    return time, dt, vel, vel1, om, p"
   ]
  },
  {
   "cell_type": "code",
   "execution_count": 46,
   "metadata": {
    "collapsed": true
   },
   "outputs": [],
   "source": [
    "def new_z_vfield(Im = None, Jm = None, Km = None):\n",
    "    if(Im == None): Im = wr.dimx.Im\n",
    "    if(Jm == None): Jm = wr.dimr.Jm\n",
    "    if(Km == None): Km = wr.dimt.Km\n",
    "    return _np.zeros((3,Km+2, Jm+2, Im+2), order='C')"
   ]
  },
  {
   "cell_type": "code",
   "execution_count": 47,
   "metadata": {
    "collapsed": false
   },
   "outputs": [],
   "source": [
    "def new_z_pfield(Im = None, Jm = None, Km = None):\n",
    "    if(Im == None): Im = wr.dimx.Im\n",
    "    if(Jm == None): Jm = wr.dimr.Jm\n",
    "    if(Km == None): Km = wr.dimt.Km\n",
    "    return _np.zeros((Km+2, Jm+2, Im+2), order='C')"
   ]
  },
  {
   "cell_type": "code",
   "execution_count": 59,
   "metadata": {
    "collapsed": true
   },
   "outputs": [],
   "source": [
    "def read_vel(fname):\n",
    "    vel = new_z_vfield()\n",
    "    t, dt, Dp = wr.load(fname, vel[0], vel[1], vel[2])\n",
    "    Re = wr.Re.Re\n",
    "    return t, dt, Dp, Re, vel"
   ]
  },
  {
   "cell_type": "code",
   "execution_count": 60,
   "metadata": {
    "collapsed": true
   },
   "outputs": [],
   "source": [
    "def read_cp(fname):\n",
    "    wr.init_like(fname)\n",
    "    return read_vel(fname)"
   ]
  },
  {
   "cell_type": "code",
   "execution_count": 61,
   "metadata": {
    "collapsed": true
   },
   "outputs": [],
   "source": [
    "def fullread(fname):\n",
    "    t, dt, Dp, Re, vel = read_cp(fname)\n",
    "\n",
    "    velt = new_z_vfield()\n",
    "    om = new_z_vfield()\n",
    "    p = new_z_pfield()\n",
    "\n",
    "    wr.rp(time, vel[0], vel[1], vel[2], velt[0], velt[1], velt[2], om[0], om[1], om[2])\n",
    "    wr.pres(vel[0], vel[1], vel[2], p, 0.5)    \n",
    "    \n",
    "    return t, dt, Dp, Re, vel, velt, om, p"
   ]
  },
  {
   "cell_type": "code",
   "execution_count": 64,
   "metadata": {
    "collapsed": false
   },
   "outputs": [],
   "source": [
    "def write_cp(fname, vel, t=0.0, dt=0.1, Dp=0.0, Re=None):\n",
    "    if(Re != None): wr.Re.Re = Re\n",
    "    wr.down(fname, vel[0], vel[1], vel[2], t, dt, Dp)"
   ]
  },
  {
   "cell_type": "code",
   "execution_count": null,
   "metadata": {
    "collapsed": true
   },
   "outputs": [],
   "source": []
  }
 ],
 "metadata": {
  "kernelspec": {
   "display_name": "Python 2",
   "language": "python",
   "name": "python2"
  },
  "language_info": {
   "codemirror_mode": {
    "name": "ipython",
    "version": 2
   },
   "file_extension": ".py",
   "mimetype": "text/x-python",
   "name": "python",
   "nbconvert_exporter": "python",
   "pygments_lexer": "ipython2",
   "version": "2.7.10"
  }
 },
 "nbformat": 4,
 "nbformat_minor": 0
}
