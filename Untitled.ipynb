{
 "cells": [
  {
   "cell_type": "code",
   "execution_count": 1,
   "metadata": {
    "collapsed": true
   },
   "outputs": [],
   "source": [
    "import numpy as np\n",
    "import math"
   ]
  },
  {
   "cell_type": "code",
   "execution_count": 211,
   "metadata": {
    "collapsed": true
   },
   "outputs": [],
   "source": [
    "import matplotlib.pyplot as plt\n",
    "%matplotlib inline"
   ]
  },
  {
   "cell_type": "code",
   "execution_count": 2,
   "metadata": {
    "collapsed": true
   },
   "outputs": [],
   "source": [
    "class Rrt:\n",
    "    def __init__(self, y0, y01):\n",
    "        yp = lambda a,b: 0.01 * math.sqrt(0.3*(b+1)) * (a*(58.*b-21.-21.*b*b)+100.)\n",
    "        y1p = lambda a,b: 1. + a * (b - 0.45 * (b+1.)**2)\n",
    "        dyda = lambda a,b: 0.01 * math.sqrt(0.3*(b+1)) * (58.*b - 21. - 21.*b*b)\n",
    "        dydb = lambda a,b: 0.01 * math.sqrt(0.3*(b+1)) * (0.5 * (a*(58.*b - 21. - 21.*b*b) + 100.)/(b+1) + a*(58.-42*b))\n",
    "        dy1da = lambda a,b: b - 0.45 * (b+1.)**2\n",
    "        dy1db = lambda a,b: a * (1. - 0.9*(b+1.))\n",
    "\n",
    "        a = 0.0\n",
    "        b = 10. / 3.*y0*y0 - 1.\n",
    "\n",
    "        while True:\n",
    "            c1 = dyda(a,b)\n",
    "            c2 = dydb(a,b)\n",
    "            c3 = y0 - yp(a,b)\n",
    "            c4 = dy1da(a,b)\n",
    "            c5 = dy1db(a,b)\n",
    "            c6 = y01 - y1p(a,b)\n",
    "            d  = c1*c5 - c2*c4\n",
    "            da = (c3*c5 - c2*c6) / d\n",
    "            db = (c1*c6 - c3*c4) / d\n",
    "            a = a + da\n",
    "            b = b + db\n",
    "            if abs(da) < 1.e-5 and abs(db) < 1.e-5: \n",
    "                break\n",
    "\n",
    "        self.aset = a\n",
    "        self.bset = b\n",
    "\n",
    "    i0 = lambda self, x: x * (1. + self.aset * (1. - x**2) * (self.bset - x**2))\n",
    "    i1 = lambda self, x: 1. + self.aset * (self.bset - 3.*(1.+self.bset)*x**2 + 5.*x**4)"
   ]
  },
  {
   "cell_type": "code",
   "execution_count": 87,
   "metadata": {
    "collapsed": true
   },
   "outputs": [],
   "source": [
    "Xmax,Zmax,epsr,nsym,curv = 5*[float(\"nan\")]\n",
    "xf,xn,hx,lx,Im = None, None, float('nan'), 0, 1\n",
    "rn,rn1,rf,rf1,Jm = None, None, None, None, 1\n",
    "thn,thf,ht,lt,Km = None, None, float('nan'), 0, 1\n",
    "Re = float('nan')\n",
    "cf = float('nan')"
   ]
  },
  {
   "cell_type": "code",
   "execution_count": 235,
   "metadata": {
    "collapsed": false
   },
   "outputs": [],
   "source": [
    "def init_r():\n",
    "    global rn, rn1, rf, rf1\n",
    "    \n",
    "    hr = 1.0 / Jm\n",
    "    rrt = Rrt(1.0, epsr)\n",
    "\n",
    "    ros = np.linspace(0, 1+hr, Jm+2)\n",
    "    rn = np.array([rrt.i0(ro) for ro in ros])\n",
    "    rn1 = np.array([rrt.i1(ro)*hr for ro in ros])\n",
    "\n",
    "    ros -= hr/2\n",
    "    rf = np.array([rrt.i0(ro) for ro in ros])\n",
    "    rf1 = np.array([rrt.i1(ro)*hr for ro in ros])\n",
    "    \n",
    "    rn = curv + rn * (1.0 - curv)\n",
    "    rf = curv + rf * (1.0 - curv)\n",
    "    \n",
    "\n",
    "def init_th():\n",
    "    global thn, thf, ht, Km, Zmax\n",
    "    \n",
    "    Km = 2**lt\n",
    "    Zmax = (curv * 2.4 + (1.0 - curv) * math.pi) / nsym\n",
    "    ht = Zmax / Km\n",
    "    thn = np.linspace(0, Zmax+ht, Km+2)\n",
    "    thf = thn - 0.5*ht\n",
    "\n",
    "def init_x():\n",
    "    global xn, xf, hx, Im\n",
    "    \n",
    "    Im = 2**lx\n",
    "    hx = Xmax / Im\n",
    "\n",
    "    xn = np.linspace(0, Xmax+hx, Im+2)\n",
    "    xf = xn - 0.5*hx\n",
    "\n",
    "def __str__():\n",
    "    ret = \"## sym geometry module, characteristic units is R and Umax=2*Ubulk \\n\"\n",
    "    ret += \"Xmax * Ymax * Zmax = %f x %f x %f\\n\" % (Xmax, 1.0, Zmax)\n",
    "    ret += \"Im * Jm * Km = %d x %d x %d\\n\" % (Im,Jm,Km)\n",
    "    ret += \"epsr=%f, nsym=%f, hx=%f, ht=%f\\n\" % (epsr, nsym, hx, ht)\n",
    "    ret += \"Re=%f, cf=%f, \" % (Re, cf)\n",
    "    if curv == 0.0:\n",
    "        ret += \"'pipe'\"\n",
    "    elif curv == 1.0:\n",
    "        ret += \"'duct'\"\n",
    "    else:\n",
    "        ret += \"curv=%f\" % curv\n",
    "    return ret"
   ]
  },
  {
   "cell_type": "code",
   "execution_count": 236,
   "metadata": {
    "collapsed": false
   },
   "outputs": [
    {
     "name": "stdout",
     "output_type": "stream",
     "text": [
      "## sym geometry module, characteristic units is R and Umax=2*Ubulk \n",
      "Xmax * Ymax * Zmax = 5.000000 x 1.000000 x 1.570796\n",
      "Im * Jm * Km = 64 x 40 x 32\n",
      "epsr=0.250000, nsym=2.000000, hx=0.078125, ht=0.049087\n",
      "Re=2257.670822, cf=0.650426, 'pipe'\n"
     ]
    }
   ],
   "source": [
    "print __str__()"
   ]
  },
  {
   "cell_type": "code",
   "execution_count": 76,
   "metadata": {
    "collapsed": true
   },
   "outputs": [],
   "source": [
    "import pipe_pytools.tools as tools"
   ]
  },
  {
   "cell_type": "code",
   "execution_count": 83,
   "metadata": {
    "collapsed": true
   },
   "outputs": [],
   "source": [
    "def init():\n",
    "    init_x()\n",
    "    init_r()\n",
    "    init_th()"
   ]
  },
  {
   "cell_type": "code",
   "execution_count": 154,
   "metadata": {
    "collapsed": false
   },
   "outputs": [],
   "source": [
    "def read_scp(fname, is_cf_in=False):\n",
    "    global cf,Re,Xmax,epsr,lx,Jm,lt,nsym,curv\n",
    "    t,dt,Dp,Re,Xmax,epsr,lx,Jm,lt,nsym,vel = tools.get_scp(fname)\n",
    "    curv = 0.0\n",
    "    if is_cf_in: cf = Dp\n",
    "    init()\n",
    "    return t,dt,vel"
   ]
  },
  {
   "cell_type": "code",
   "execution_count": 149,
   "metadata": {
    "collapsed": true
   },
   "outputs": [],
   "source": [
    "def read_dcp(fname, curv1, is_cf_in=False):\n",
    "    global cf,Re,Xmax,epsr,lx,Jm,lt,nsym,curv\n",
    "    t,dt,Dp,Re,Xmax,epsr,lx,Jm,lt,nsym,vel = tools.get_cp(fname)\n",
    "    curv = curv1\n",
    "    if is_cf_in: \n",
    "        cf = Dp\n",
    "    init()\n",
    "    return t,dt,vel"
   ]
  },
  {
   "cell_type": "code",
   "execution_count": 150,
   "metadata": {
    "collapsed": false
   },
   "outputs": [],
   "source": [
    "def read_ccp(fname, is_cf_in=False):\n",
    "    global cf,Re,Xmax,epsr,lx,Jm,lt,nsym,curv\n",
    "    t,dt,Dp,Re,Xmax,epsr,lx,Jm,lt,nsym,curv,vel = tools.get_ccp(fname)\n",
    "    if is_cf_in:\n",
    "        cf = Dp\n",
    "    init()\n",
    "    return t,dt,vel"
   ]
  },
  {
   "cell_type": "code",
   "execution_count": 151,
   "metadata": {
    "collapsed": true
   },
   "outputs": [],
   "source": [
    "def read(fname, curv=-1, is_cf_in=False):\n",
    "    if fname[-4:] == \".scp\":\n",
    "        return read_scp(fname, is_cf_in)\n",
    "    if fname[-4:] == \".dcp\":\n",
    "        if curv < 0.0: raise Exception(\"curv?\")\n",
    "        return read_dcp(fname, curv, is_cf_in)\n",
    "    if fname[-4:] == \".ccp\":\n",
    "        return read_ccp(fname, is_cf_in)"
   ]
  },
  {
   "cell_type": "code",
   "execution_count": 227,
   "metadata": {
    "collapsed": true
   },
   "outputs": [],
   "source": [
    "def thmean(vel):\n",
    "    Vel = np.empty_like(vel)\n",
    "    Vel[:] = vel[1:-1].mean(0)\n",
    "    return Vel"
   ]
  },
  {
   "cell_type": "code",
   "execution_count": 121,
   "metadata": {
    "collapsed": true
   },
   "outputs": [],
   "source": [
    "def xmean(vel):\n",
    "    Vel = np.empty_like(vel)\n",
    "    Vel.T[:] = vel.T[1:-1].mean(0)\n",
    "    return Vel"
   ]
  },
  {
   "cell_type": "code",
   "execution_count": 231,
   "metadata": {
    "collapsed": false
   },
   "outputs": [],
   "source": [
    "def cs_mean(u):\n",
    "    if len(u.shape) != 3: raise Exception(\"u.shape should be (Km+2,Jm+2) or (Km+2,Jm+2,..)!\")\n",
    "    return ((u.T[:,:,1:-1].mean(-1) * rf * rf1)[:,1:-1].sum(-1)) / (rf * rf1)[1:-1].sum()"
   ]
  },
  {
   "cell_type": "code",
   "execution_count": 234,
   "metadata": {
    "collapsed": true
   },
   "outputs": [],
   "source": [
    "def mod_bc(vel):\n",
    "    u,v,w = vel\n",
    "        \n",
    "    vel[:,:,:,0] = vel[:,:,:,-2]\n",
    "    vel[:,:,:,-1] = vel[:,:,:,1]\n",
    "    \n",
    "    for i in xrange(0,Im+1):\n",
    "        for j in xrange(0,Jm+2):\n",
    "            u.T[i,j,0] = u.T[i,j,1]\n",
    "            u.T[i,j,Km+1] = u.T[i,j,Km]\n",
    "            \n",
    "        for k in xrange(0,Km+2):\n",
    "            u.T[i,0,k] = u.T[i,1,k]\n",
    "            u.T[i,Jm+1,k] = - u.T[i,Jm,k]\n",
    "            \n",
    "    for k in xrange(0,Km+2):\n",
    "        for i in xrange(0,Im+2):\n",
    "            v.T[i,0,k] = 0.0\n",
    "            v.T[i,Jm,k] = 0.0\n",
    "            \n",
    "    for j in xrange(0,Jm+1):\n",
    "        for i in xrange(0,Im+2):\n",
    "            v.T[i,j,0] = v.T[i,j,1]\n",
    "            v.T[i,j,Km+1] = v.T[i,j,Km]\n",
    "            \n",
    "    for j in range(0,Jm+2):\n",
    "        for i in range(0,Im+2):\n",
    "            w.T[i,j,0] = 0.0\n",
    "            w.T[i,j,Km] = 0.0\n",
    "            \n",
    "    for k in range(0,Km+1):\n",
    "        for i in range(0,Im+2):\n",
    "            w.T[i,0,k] = w.T[i,1,k] * yt[1] / yt[0]\n",
    "            w.T[i,Jm+1,k] = - w.T[i,Jm,k] * yt[Jm] / yt[Jm+1]"
   ]
  },
  {
   "cell_type": "code",
   "execution_count": 238,
   "metadata": {
    "collapsed": true
   },
   "outputs": [],
   "source": [
    "def get_om(vel):\n",
    "    mod_bc(vel)\n",
    "    u,v,w = vel\n",
    "    \n",
    "    om = np.zeros((3,Km+2,Jm+2,Im+2))\n",
    "    ox,on,ot = om\n",
    "    \n",
    "    for i in range(1,Im+1):\n",
    "        for j in range(0,Jm+1):\n",
    "            for k in range(0,Km+1):\n",
    "                w0 = w.T[i,j,k]\n",
    "                w1 = w.T[i,j+1,k]\n",
    "                v0 = v.T[i,j,k]\n",
    "                v1 = v.T[i,j,k+1]\n",
    "                ox.T[i,j,k] = ((yt[j+1]*w1 - yt[j]*w0) / rt1[j] - (v1 - v0) / ht) / rt[j]\n",
    "                \n",
    "    for k in range(0,Km+1):\n",
    "        for j in range(1,Jm+1):\n",
    "            for i in range(0,Im+1):\n",
    "                u0 = u.T[i,j,k]\n",
    "                u1 = u.T[i,j,k+1]\n",
    "                w0 = w.T[i,j,k]\n",
    "                w1 = w.T[i+1,j,k]\n",
    "                on.T[i,j,k] = (u1 - u0) / (yt[j] * ht) - (w1 - w0) / hx\n",
    "                \n",
    "    for k in range(1,Km+1):\n",
    "        for j in range(0,Jm+1):\n",
    "            for i in range(0,Im+1):\n",
    "                u0 = u.T[i,j,k]\n",
    "                u1 = u.T[i,j+1,k]\n",
    "                v0 = v.T[i,j,k]\n",
    "                v1 = v.T[i+1,j,k]\n",
    "                ot.T[i,j,k] = (v1 - v0) / hx - (u1 - u0) / rt1[j]\n",
    "    \n",
    "    return om"
   ]
  },
  {
   "cell_type": "code",
   "execution_count": null,
   "metadata": {
    "collapsed": true
   },
   "outputs": [],
   "source": []
  },
  {
   "cell_type": "code",
   "execution_count": null,
   "metadata": {
    "collapsed": true
   },
   "outputs": [],
   "source": []
  },
  {
   "cell_type": "code",
   "execution_count": 202,
   "metadata": {
    "collapsed": false
   },
   "outputs": [],
   "source": [
    "t,dt,vel = read(\"../experiments/orig-tw/tw2200new/tw2200Xmax5new.scp\", is_cf_in=True)"
   ]
  },
  {
   "cell_type": "code",
   "execution_count": 230,
   "metadata": {
    "collapsed": false
   },
   "outputs": [
    {
     "name": "stdout",
     "output_type": "stream",
     "text": [
      "## sym geometry module, characteristic units is R and Umax=2*Ubulk \n",
      "Xmax * Ymax * Zmax = 5.000000 x 1.000000 x 1.570796\n",
      "Im * Jm * Km = 64 x 40 x 32\n",
      "epsr=0.250000, nsym=2.000000, hx=0.078125, ht=0.049087\n",
      "Re=2257.670822, cf=0.650426, 'pipe': curv=0.000000\n"
     ]
    }
   ],
   "source": [
    "print __str__()"
   ]
  },
  {
   "cell_type": "code",
   "execution_count": null,
   "metadata": {
    "collapsed": true
   },
   "outputs": [],
   "source": []
  }
 ],
 "metadata": {
  "kernelspec": {
   "display_name": "Python 2",
   "language": "python",
   "name": "python2"
  },
  "language_info": {
   "codemirror_mode": {
    "name": "ipython",
    "version": 2
   },
   "file_extension": ".py",
   "mimetype": "text/x-python",
   "name": "python",
   "nbconvert_exporter": "python",
   "pygments_lexer": "ipython2",
   "version": "2.7.10"
  }
 },
 "nbformat": 4,
 "nbformat_minor": 0
}
